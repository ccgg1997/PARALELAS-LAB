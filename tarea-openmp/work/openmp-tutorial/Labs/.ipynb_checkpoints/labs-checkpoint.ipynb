{
 "cells": [
  {
   "cell_type": "markdown",
   "metadata": {},
   "source": [
    "# Labs for the OpenMP Tutorial\n",
    "\n",
    "## Slides\n",
    "\n",
    "Get a copy of the slides going to [this link](https://drive.google.com/drive/u/0/folders/1_ef7_8HCRWWSYVeeCjtxzD7HARr19Ynf)\n",
    "\n",
    "## Labs\n",
    "\n",
    "Open the different labs and follow the instructions\n",
    "\n",
    "* [Lab 1](Lab1/lab1.ipynb)\n",
    "* [Lab 2](Lab2/lab2.ipynb)\n",
    "* [Lab 4](Lab4/lab4.ipynb)"
   ]
  }
 ],
 "metadata": {
  "kernelspec": {
   "display_name": "Python 3.8.9 64-bit",
   "language": "python",
   "name": "python3"
  },
  "language_info": {
   "name": "python",
   "version": "3.8.9"
  },
  "orig_nbformat": 4,
  "vscode": {
   "interpreter": {
    "hash": "31f2aee4e71d21fbe5cf8b01ff0e069b9275f58929596ceb00d14d90e3e16cd6"
   }
  }
 },
 "nbformat": 4,
 "nbformat_minor": 2
}
